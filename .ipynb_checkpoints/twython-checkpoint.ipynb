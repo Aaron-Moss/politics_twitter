{
 "cells": [
  {
   "cell_type": "code",
   "execution_count": 2,
   "metadata": {},
   "outputs": [],
   "source": [
    "from twython import Twython"
   ]
  },
  {
   "cell_type": "code",
   "execution_count": 4,
   "metadata": {},
   "outputs": [],
   "source": [
    "from auth import *"
   ]
  },
  {
   "cell_type": "code",
   "execution_count": 72,
   "metadata": {},
   "outputs": [],
   "source": [
    "from pprint import pprint"
   ]
  },
  {
   "cell_type": "code",
   "execution_count": 5,
   "metadata": {},
   "outputs": [
    {
     "name": "stdout",
     "output_type": "stream",
     "text": [
      "N7bFkglZjFqrF7WLujjbD004L\n"
     ]
    }
   ],
   "source": [
    "print(CONSUMER_KEY)"
   ]
  },
  {
   "cell_type": "code",
   "execution_count": 19,
   "metadata": {},
   "outputs": [],
   "source": [
    "twitter = Twython(CONSUMER_KEY, CONSUMER_SECRET)"
   ]
  },
  {
   "cell_type": "code",
   "execution_count": null,
   "metadata": {},
   "outputs": [],
   "source": []
  },
  {
   "cell_type": "code",
   "execution_count": 60,
   "metadata": {},
   "outputs": [
    {
     "name": "stdout",
     "output_type": "stream",
     "text": [
      "Mon Apr 30 12:36:38 +0000 2018 RT @MerPolTraffic: Vehicle stopped on Wapping outside Police HQ for #NoInsurance. Vehicle #Seized and Driver #Reported for offence. #DriveI…\n",
      "Mon Apr 30 12:26:27 +0000 2018 @Tuckleton @orgreavejustice @penkymax @AmberRuddHR @OneTenTwelve @tedtully @CllrRuthRosenau @daverussell… https://t.co/t6mTcbAlJ3\n",
      "Mon Apr 30 12:26:10 +0000 2018 Wonderful to have the committed support from our neighbouring MP @rushanaraali. A strong Labour group of councillor… https://t.co/r9Yr6KRZ0d\n",
      "Mon Apr 30 12:18:50 +0000 2018 RT @lilylauraloves: Tallest building launches at London Dock in #Wapping https://t.co/4KC8vst5nx @BerkeleyGroupUK https://t.co/r2guYZ8YFO\n",
      "Mon Apr 30 12:18:41 +0000 2018 Tallest building launches at London Dock in #Wapping https://t.co/4KC8vst5nx @BerkeleyGroupUK https://t.co/r2guYZ8YFO\n",
      "Mon Apr 30 12:11:56 +0000 2018 Put you're hands up if you want #JohnAbdalAndDenise elected? You can help by coming out Doorknocking with us in the… https://t.co/CqD0XzKFaB\n",
      "Mon Apr 30 12:04:53 +0000 2018 RT @InsideCustomer: The rise of independents! As the dining experience evolves, we see eating out locations like Wapping Wharf epitomising…\n",
      "Mon Apr 30 12:00:02 +0000 2018 RT @TH_Labour_Party: This Afternoon's Campaigning Sessions 3/4\n",
      "\n",
      "6pm Island Gardens\n",
      "Island Gardens DLR\n",
      "\n",
      "6pm Mile End\n",
      "Mile End Stn\n",
      "\n",
      "6pm St Ka…\n",
      "Mon Apr 30 12:00:02 +0000 2018 RT @TH_Labour_Party: This Afternoon's Campaigning Sessions 3/4\n",
      "\n",
      "6pm Island Gardens\n",
      "Island Gardens DLR\n",
      "\n",
      "6pm Mile End\n",
      "Mile End Stn\n",
      "\n",
      "6pm St Ka…\n",
      "Mon Apr 30 12:00:01 +0000 2018 This Afternoon's Campaigning Sessions 3/4\n",
      "\n",
      "6pm Island Gardens\n",
      "Island Gardens DLR\n",
      "\n",
      "6pm Mile End\n",
      "Mile End Stn\n",
      "\n",
      "6pm St… https://t.co/vHVQCiJkz8\n",
      "Mon Apr 30 11:51:47 +0000 2018 RT @sarahwhiteacre: Great gathering organised by @LdnIrishARC in Wapping today! #Together4Yes #HomeToVote #Men4Yes https://t.co/kuSrWMmgq1\n",
      "Mon Apr 30 11:41:16 +0000 2018 A morning well spent for the team viewing the new Cashmere Wharf show apartments at London Dock. Contact residentia… https://t.co/n951AS2p5f\n",
      "Mon Apr 30 11:37:00 +0000 2018 RT @PeterleeBiz: Well done to these volunteers from Caterpillar who have been recognised for their efforts cleaning up Wapping Burn @Lighth…\n",
      "Mon Apr 30 11:13:03 +0000 2018 RT @MerPolTraffic: Vehicle stopped on Wapping outside Police HQ for #NoInsurance. Vehicle #Seized and Driver #Reported for offence. #DriveI…\n",
      "Mon Apr 30 10:57:04 +0000 2018 Wapping Wharf to get the seafood restaurant it deserves https://t.co/A7LGbHWym4 https://t.co/9DOOllXE4J\n"
     ]
    }
   ],
   "source": [
    "for status in twitter.search(q='wapping')['statuses']:\n",
    "    created = status['created_at']\n",
    "    text = status['text']\n",
    "    print(created + ' ' + text)"
   ]
  },
  {
   "cell_type": "code",
   "execution_count": null,
   "metadata": {},
   "outputs": [],
   "source": []
  },
  {
   "cell_type": "code",
   "execution_count": 61,
   "metadata": {
    "slideshow": {
     "slide_type": "notes"
    }
   },
   "outputs": [],
   "source": [
    "from twython import TwythonStreamer"
   ]
  },
  {
   "cell_type": "code",
   "execution_count": 108,
   "metadata": {},
   "outputs": [],
   "source": [
    "from vaderSentiment.vaderSentiment import SentimentIntensityAnalyzer"
   ]
  },
  {
   "cell_type": "code",
   "execution_count": 109,
   "metadata": {},
   "outputs": [],
   "source": [
    "analyser = SentimentIntensityAnalyzer()"
   ]
  },
  {
   "cell_type": "code",
   "execution_count": 113,
   "metadata": {},
   "outputs": [
    {
     "data": {
      "text/plain": [
       "{'neg': 0.425, 'neu': 0.575, 'pos': 0.0, 'compound': -0.5719}"
      ]
     },
     "execution_count": 113,
     "metadata": {},
     "output_type": "execute_result"
    }
   ],
   "source": [
    "analyser.polarity_scores('life is poo and i hate everyone')"
   ]
  },
  {
   "cell_type": "code",
   "execution_count": 114,
   "metadata": {},
   "outputs": [
    {
     "data": {
      "text/plain": [
       "{'neg': 0.0, 'neu': 0.183, 'pos': 0.817, 'compound': 0.836}"
      ]
     },
     "execution_count": 114,
     "metadata": {},
     "output_type": "execute_result"
    }
   ],
   "source": [
    "analyser.polarity_scores('i love oranges and feeling relaxed')"
   ]
  },
  {
   "cell_type": "code",
   "execution_count": 187,
   "metadata": {},
   "outputs": [],
   "source": [
    "tweets = []"
   ]
  },
  {
   "cell_type": "code",
   "execution_count": 97,
   "metadata": {},
   "outputs": [],
   "source": [
    "class MyTwythonStreamer(TwythonStreamer):  \n",
    "    def on_success(self, data):\n",
    "        if data['lang'] == 'en':\n",
    "            tweets.append(data)\n",
    "            print('received tweet #{}'.format(len(tweets)))\n",
    "        if len(tweets) >= 20:\n",
    "            self.disconnect()\n",
    "    def on_error(self, status_code, data):\n",
    "        print(status_code, data)\n",
    "        self.disconnect()"
   ]
  },
  {
   "cell_type": "code",
   "execution_count": 98,
   "metadata": {},
   "outputs": [],
   "source": [
    "stream = MyTwythonStreamer(CONSUMER_KEY, CONSUMER_SECRET, ACCESS_TOKEN, ACCESS_TOKEN_SECRET)"
   ]
  },
  {
   "cell_type": "code",
   "execution_count": 191,
   "metadata": {},
   "outputs": [
    {
     "name": "stdout",
     "output_type": "stream",
     "text": [
      "received tweet #1\n",
      "received tweet #2\n",
      "received tweet #3\n",
      "received tweet #4\n",
      "received tweet #5\n",
      "received tweet #6\n",
      "received tweet #7\n",
      "received tweet #8\n",
      "received tweet #9\n",
      "received tweet #10\n",
      "received tweet #11\n",
      "received tweet #12\n",
      "received tweet #13\n",
      "received tweet #14\n",
      "received tweet #15\n",
      "received tweet #16\n",
      "received tweet #17\n",
      "received tweet #18\n",
      "received tweet #19\n",
      "received tweet #20\n"
     ]
    }
   ],
   "source": [
    "tweets = []\n",
    "stream.statuses.filter(track='piers morgan')   #space='and'  #comma='or'"
   ]
  },
  {
   "cell_type": "code",
   "execution_count": 194,
   "metadata": {},
   "outputs": [
    {
     "name": "stdout",
     "output_type": "stream",
     "text": [
      "#WindrushJustice: Why don't we just make Diane Abbott PM, if she is going to be held to account for police numbers and immigration, ~ Diane Abbott clashes with TV host Piers Morgan over immigration - AOL https://t.co/YcFB5jOeBs\n",
      "{'neg': 0.0, 'neu': 1.0, 'pos': 0.0, 'compound': 0.0}\n",
      " \n",
      "---------------\n",
      " \n",
      "Diane Abbott repeatedly refuses to say what should happen to illegal migrants in car-crash interview with Piers Morgan https://t.co/RLKgXpdCWd\n",
      "{'neg': 0.167, 'neu': 0.833, 'pos': 0.0, 'compound': -0.5574}\n",
      " \n",
      "---------------\n",
      " \n",
      "Make your own mind up. \n",
      "\n",
      "This is the person who may one day be responsible for coordinating our response to a major terrorist attack. https://t.co/kctaIsqv4P\n",
      "{'neg': 0.251, 'neu': 0.675, 'pos': 0.074, 'compound': -0.7579}\n",
      " \n",
      "---------------\n",
      " \n",
      "On #GMB this morning, Piers Morgan repeatedly asks car-crash Diane Abbott is Labour's policy to allow illegal immigrants to stay in the country or to be deportedly. Diane Abbott repeatedly refused to answer the question. And she could be our Home Secretary soon!\n",
      "{'neg': 0.127, 'neu': 0.833, 'pos': 0.04, 'compound': -0.636}\n",
      " \n",
      "---------------\n",
      " \n",
      "More comedy buffoonery from DA. She either can’t answer the very simple policy question because she actually doesn’t know or she won’t say because she &amp; Jezza both know it’ll be political suicide to do so. My bets on the latter. #pantsonfire https://t.co/OgZXE2z34K\n",
      "{'neg': 0.093, 'neu': 0.849, 'pos': 0.058, 'compound': -0.4033}\n",
      " \n",
      "---------------\n",
      " \n",
      "Diane Abbott repeatedly refuses to say what should happen to illegal migrants in car-crash interview with Piers Morgan. \n",
      "https://t.co/f7ayYJ9Gna https://t.co/PjG1MWM18F\n",
      "{'neg': 0.159, 'neu': 0.841, 'pos': 0.0, 'compound': -0.5574}\n",
      " \n",
      "---------------\n",
      " \n",
      "@Melkyor_Arsenal It is often asked whether an insane person knows if they are insane, similarly, do you think Piers Morgan knows he’s an odious little c***?\n",
      "{'neg': 0.184, 'neu': 0.816, 'pos': 0.0, 'compound': -0.6597}\n",
      " \n",
      "---------------\n",
      " \n",
      "#Painful - I am not quite sure what else to say here - I would love politicians to simply answer the question and help the electorate understand their stance - we see a lot of rabbits in the headlights these days don't we? https://t.co/Mfsb6qfpoj\n",
      "{'neg': 0.049, 'neu': 0.794, 'pos': 0.157, 'compound': 0.6928}\n",
      " \n",
      "---------------\n",
      " \n",
      "Diane Abbott repeatedly refuses to say what should happen to illegal migrants in car-crash interview with Piers Morgan. \n",
      "https://t.co/f7ayYJ9Gna https://t.co/PjG1MWM18F\n",
      "{'neg': 0.159, 'neu': 0.841, 'pos': 0.0, 'compound': -0.5574}\n",
      " \n",
      "---------------\n",
      " \n",
      "Diane Abbott repeatedly refuses to say what should happen to illegal migrants in car-crash interview with Piers Morgan. \n",
      "https://t.co/f7ayYJ9Gna https://t.co/PjG1MWM18F\n",
      "{'neg': 0.159, 'neu': 0.841, 'pos': 0.0, 'compound': -0.5574}\n",
      " \n",
      "---------------\n",
      " \n",
      "Diane Abbott repeatedly refuses to say what should happen to illegal migrants in car-crash interview with Piers Morgan https://t.co/RLKgXpdCWd\n",
      "{'neg': 0.167, 'neu': 0.833, 'pos': 0.0, 'compound': -0.5574}\n",
      " \n",
      "---------------\n",
      " \n",
      "What an egregious buffoon this woman is. Promoted far above her ability purely because of her skin colour. Making her home secretary would be like declaring war against Britain. https://t.co/N7trK9XtPb\n",
      "{'neg': 0.104, 'neu': 0.693, 'pos': 0.203, 'compound': 0.4019}\n",
      " \n",
      "---------------\n",
      " \n",
      "Every time I see this cunt she hasn't got a clue. Just talks absolute bollocks.\n",
      "Illegal immigrants are called illegal for a reason. My target would be get rid of 100% of the fuckers https://t.co/zS2OupAGEA\n",
      "{'neg': 0.347, 'neu': 0.653, 'pos': 0.0, 'compound': -0.9418}\n",
      " \n",
      "---------------\n",
      " \n",
      "Diane Abbott repeatedly refuses to say what should happen to illegal migrants in car-crash interview with Piers Morgan. \n",
      "https://t.co/f7ayYJ9Gna https://t.co/PjG1MWM18F\n",
      "{'neg': 0.159, 'neu': 0.841, 'pos': 0.0, 'compound': -0.5574}\n",
      " \n",
      "---------------\n",
      " \n",
      "@TelBabe @achievechange Piers Morgan asked a question on behalf of many concerned  British citizens,  Ms Abbott could not respond with any clarity or sense about illegal immigrants being allowed to remain or leave any more then other key politicians representing Labour can or will. I wonder why....\n",
      "{'neg': 0.097, 'neu': 0.848, 'pos': 0.055, 'compound': -0.2732}\n",
      " \n",
      "---------------\n",
      " \n",
      "Piers Morgan asks Diane Abbott the same question six times on Labour's illegal immigrant policy https://t.co/wDOTfs9VPG https://t.co/MJlaHTLAyL\n",
      "{'neg': 0.184, 'neu': 0.816, 'pos': 0.0, 'compound': -0.5574}\n",
      " \n",
      "---------------\n",
      " \n",
      "Diane Abbott repeatedly refuses to say what should happen to illegal migrants in car-crash interview with Piers Morgan https://t.co/RLKgXpdCWd\n",
      "{'neg': 0.167, 'neu': 0.833, 'pos': 0.0, 'compound': -0.5574}\n",
      " \n",
      "---------------\n",
      " \n",
      "Diane Abbott repeatedly refuses to say what should happen to illegal migrants in car-crash interview with Piers Morgan https://t.co/RLKgXpdCWd\n",
      "{'neg': 0.167, 'neu': 0.833, 'pos': 0.0, 'compound': -0.5574}\n",
      " \n",
      "---------------\n",
      " \n",
      "What an egregious buffoon this woman is. Promoted far above her ability purely because of her skin colour. Making her home secretary would be like declaring war against Britain. https://t.co/N7trK9XtPb\n",
      "{'neg': 0.104, 'neu': 0.693, 'pos': 0.203, 'compound': 0.4019}\n",
      " \n",
      "---------------\n",
      " \n",
      "Imagine being Piers Morgan, who has severe memory loss and stupiditis and frequently forgets how much abuse he’s dished out to Wenger but yet thinks cos Utd showed him some respect, that it’s humiliating. Imagine being that thick. Imagine. #TWATOFTHECENTURY https://t.co/8qkh1usOzW\n",
      "{'neg': 0.181, 'neu': 0.735, 'pos': 0.085, 'compound': -0.4019}\n",
      " \n",
      "---------------\n",
      " \n",
      "Diane Abbott repeatedly refuses to say what should happen to illegal migrants in car-crash interview with Piers Morgan https://t.co/RLKgXpdCWd\n",
      "{'neg': 0.167, 'neu': 0.833, 'pos': 0.0, 'compound': -0.5574}\n",
      " \n",
      "---------------\n",
      " \n",
      "What an egregious buffoon this woman is. Promoted far above her ability purely because of her skin colour. Making her home secretary would be like declaring war against Britain. https://t.co/N7trK9XtPb\n",
      "{'neg': 0.104, 'neu': 0.693, 'pos': 0.203, 'compound': 0.4019}\n",
      " \n",
      "---------------\n",
      " \n",
      "Diane Abbott repeatedly refuses to say what should happen to illegal migrants in car-crash interview with Piers Morgan https://t.co/RLKgXpdCWd\n",
      "{'neg': 0.167, 'neu': 0.833, 'pos': 0.0, 'compound': -0.5574}\n",
      " \n",
      "---------------\n",
      " \n",
      "Diane Abbott repeatedly refuses to say what should happen to illegal migrants in car-crash interview with Piers Morgan https://t.co/RLKgXpdCWd\n",
      "{'neg': 0.167, 'neu': 0.833, 'pos': 0.0, 'compound': -0.5574}\n",
      " \n",
      "---------------\n",
      " \n"
     ]
    }
   ],
   "source": [
    "for i in range(0,len(tweets)):\n",
    "    try:\n",
    "        print(tweets[i]['extended_tweet']['full_text'])\n",
    "        print(analyser.polarity_scores(tweets[i]['extended_tweet']['full_text']))\n",
    "        print(' ')\n",
    "        print('---------------')\n",
    "        print(' ')\n",
    "    except: \n",
    "        pass\n",
    "    try:\n",
    "        print(tweets[i]['quoted_status']['extended_tweet']['full_text'])\n",
    "        print(analyser.polarity_scores(tweets[i]['quoted_status']['extended_tweet']['full_text']))\n",
    "        print(' ')\n",
    "        print('---------------')\n",
    "        print(' ')\n",
    "    except:\n",
    "        pass\n",
    "    try:\n",
    "        print(tweets[i]['retweeted_status']['extended_tweet']['full_text'])\n",
    "        print(analyser.polarity_scores(tweets[i]['retweeted_status']['extended_tweet']['full_text']))\n",
    "        print(' ')\n",
    "        print('---------------')\n",
    "        print(' ')\n",
    "    except:\n",
    "        pass"
   ]
  },
  {
   "cell_type": "code",
   "execution_count": 219,
   "metadata": {},
   "outputs": [
    {
     "name": "stdout",
     "output_type": "stream",
     "text": [
      "{'contributors': None,\n",
      " 'coordinates': None,\n",
      " 'created_at': 'Mon Apr 30 14:43:23 +0000 2018',\n",
      " 'entities': {'hashtags': [{'indices': [0, 16], 'text': 'WindrushJustice'}],\n",
      "              'symbols': [],\n",
      "              'urls': [{'display_url': 'twitter.com/i/web/status/9…',\n",
      "                        'expanded_url': 'https://twitter.com/i/web/status/990964840633196544',\n",
      "                        'indices': [116, 139],\n",
      "                        'url': 'https://t.co/06iBEM3yyQ'}],\n",
      "              'user_mentions': []},\n",
      " 'extended_tweet': {'display_text_range': [0, 227],\n",
      "                    'entities': {'hashtags': [{'indices': [0, 16],\n",
      "                                               'text': 'WindrushJustice'}],\n",
      "                                 'symbols': [],\n",
      "                                 'urls': [{'display_url': 'aol.co.uk/news/2018/04/3…',\n",
      "                                           'expanded_url': 'https://www.aol.co.uk/news/2018/04/30/diane-abbott-clashes-with-tv-host-piers-morgan-over-immigration/',\n",
      "                                           'indices': [204, 227],\n",
      "                                           'url': 'https://t.co/YcFB5jOeBs'}],\n",
      "                                 'user_mentions': []},\n",
      "                    'full_text': \"#WindrushJustice: Why don't we just make \"\n",
      "                                 'Diane Abbott PM, if she is going to be held '\n",
      "                                 'to account for police numbers and '\n",
      "                                 'immigration, ~ Diane Abbott clashes with TV '\n",
      "                                 'host Piers Morgan over immigration - AOL '\n",
      "                                 'https://t.co/YcFB5jOeBs'},\n",
      " 'favorite_count': 0,\n",
      " 'favorited': False,\n",
      " 'filter_level': 'low',\n",
      " 'geo': None,\n",
      " 'id': 990964840633196544,\n",
      " 'id_str': '990964840633196544',\n",
      " 'in_reply_to_screen_name': None,\n",
      " 'in_reply_to_status_id': None,\n",
      " 'in_reply_to_status_id_str': None,\n",
      " 'in_reply_to_user_id': None,\n",
      " 'in_reply_to_user_id_str': None,\n",
      " 'is_quote_status': False,\n",
      " 'lang': 'en',\n",
      " 'place': None,\n",
      " 'possibly_sensitive': False,\n",
      " 'quote_count': 0,\n",
      " 'reply_count': 0,\n",
      " 'retweet_count': 0,\n",
      " 'retweeted': False,\n",
      " 'source': '<a href=\"http://twitter.com\" rel=\"nofollow\">Twitter Web Client</a>',\n",
      " 'text': \"#WindrushJustice: Why don't we just make Diane Abbott PM, if she is \"\n",
      "         'going to be held to account for police numbers… '\n",
      "         'https://t.co/06iBEM3yyQ',\n",
      " 'timestamp_ms': '1525099403900',\n",
      " 'truncated': True,\n",
      " 'user': {'contributors_enabled': False,\n",
      "          'created_at': 'Tue Jun 09 08:57:34 +0000 2009',\n",
      "          'default_profile': False,\n",
      "          'default_profile_image': False,\n",
      "          'description': 'Reggae singer/songwriter/producer/author',\n",
      "          'favourites_count': 19,\n",
      "          'follow_request_sent': None,\n",
      "          'followers_count': 97,\n",
      "          'following': None,\n",
      "          'friends_count': 44,\n",
      "          'geo_enabled': False,\n",
      "          'id': 45798595,\n",
      "          'id_str': '45798595',\n",
      "          'is_translator': False,\n",
      "          'lang': 'en',\n",
      "          'listed_count': 11,\n",
      "          'location': 'UK',\n",
      "          'name': 'Junia  Walker',\n",
      "          'notifications': None,\n",
      "          'profile_background_color': 'C6E2EE',\n",
      "          'profile_background_image_url': 'http://pbs.twimg.com/profile_background_images/434161578/rosap2.jpg',\n",
      "          'profile_background_image_url_https': 'https://pbs.twimg.com/profile_background_images/434161578/rosap2.jpg',\n",
      "          'profile_background_tile': False,\n",
      "          'profile_banner_url': 'https://pbs.twimg.com/profile_banners/45798595/1471876954',\n",
      "          'profile_image_url': 'http://pbs.twimg.com/profile_images/618284830/rock_Junia_aa_normal.JPG',\n",
      "          'profile_image_url_https': 'https://pbs.twimg.com/profile_images/618284830/rock_Junia_aa_normal.JPG',\n",
      "          'profile_link_color': '19CF86',\n",
      "          'profile_sidebar_border_color': 'C6E2EE',\n",
      "          'profile_sidebar_fill_color': 'DAECF4',\n",
      "          'profile_text_color': '663B12',\n",
      "          'profile_use_background_image': True,\n",
      "          'protected': False,\n",
      "          'screen_name': 'jusicintl',\n",
      "          'statuses_count': 1823,\n",
      "          'time_zone': 'London',\n",
      "          'translator_type': 'none',\n",
      "          'url': 'http://www.jusicinternational.com',\n",
      "          'utc_offset': 3600,\n",
      "          'verified': False}}\n"
     ]
    }
   ],
   "source": [
    "pprint(tweets[0])"
   ]
  },
  {
   "cell_type": "code",
   "execution_count": 223,
   "metadata": {},
   "outputs": [
    {
     "name": "stdout",
     "output_type": "stream",
     "text": [
      "'<a href=\"http://twitter.com\" rel=\"nofollow\">Twitter Web Client</a>'\n",
      "('<a href=\"http://twitter.com/download/android\" rel=\"nofollow\">Twitter for '\n",
      " 'Android</a>')\n",
      "('<a href=\"http://twitter.com/download/iphone\" rel=\"nofollow\">Twitter for '\n",
      " 'iPhone</a>')\n",
      "('<a href=\"http://twitter.com/download/iphone\" rel=\"nofollow\">Twitter for '\n",
      " 'iPhone</a>')\n",
      "('<a href=\"http://twitter.com/download/iphone\" rel=\"nofollow\">Twitter for '\n",
      " 'iPhone</a>')\n",
      "'<a href=\"http://twitter.com\" rel=\"nofollow\">Twitter Web Client</a>'\n",
      "('<a href=\"http://twitter.com/download/iphone\" rel=\"nofollow\">Twitter for '\n",
      " 'iPhone</a>')\n",
      "('<a href=\"http://twitter.com/download/iphone\" rel=\"nofollow\">Twitter for '\n",
      " 'iPhone</a>')\n",
      "('<a href=\"http://twitter.com/download/android\" rel=\"nofollow\">Twitter for '\n",
      " 'Android</a>')\n",
      "('<a href=\"http://twitter.com/download/iphone\" rel=\"nofollow\">Twitter for '\n",
      " 'iPhone</a>')\n",
      "'<a href=\"http://www.asdf.com\" rel=\"nofollow\">TrumpFirehose</a>'\n",
      "('<a href=\"http://twitter.com/download/iphone\" rel=\"nofollow\">Twitter for '\n",
      " 'iPhone</a>')\n",
      "('<a href=\"http://twitter.com/download/android\" rel=\"nofollow\">Twitter for '\n",
      " 'Android</a>')\n",
      "('<a href=\"http://twitter.com/download/iphone\" rel=\"nofollow\">Twitter for '\n",
      " 'iPhone</a>')\n",
      "('<a href=\"http://twitter.com/download/iphone\" rel=\"nofollow\">Twitter for '\n",
      " 'iPhone</a>')\n",
      "('<a href=\"http://twitter.com/download/iphone\" rel=\"nofollow\">Twitter for '\n",
      " 'iPhone</a>')\n",
      "('<a href=\"http://twitter.com/download/iphone\" rel=\"nofollow\">Twitter for '\n",
      " 'iPhone</a>')\n",
      "('<a href=\"http://twitter.com/download/android\" rel=\"nofollow\">Twitter for '\n",
      " 'Android</a>')\n",
      "'<a href=\"http://www.placehold.com\" rel=\"nofollow\">bumblebee_ebook</a>'\n",
      "'<a href=\"http://twitter.com\" rel=\"nofollow\">Twitter Web Client</a>'\n"
     ]
    }
   ],
   "source": [
    "for i in range(0,len(tweets)):\n",
    "    pprint(tweets[i]['source'])"
   ]
  },
  {
   "cell_type": "code",
   "execution_count": 207,
   "metadata": {},
   "outputs": [],
   "source": [
    "import pyodbc\n",
    "import sys\n"
   ]
  },
  {
   "cell_type": "code",
   "execution_count": 208,
   "metadata": {},
   "outputs": [],
   "source": [
    "conn = pyodbc.connect(r'DSN=adwDSN;UID=python;PWD=password')         \n",
    "cur = conn.cursor()"
   ]
  },
  {
   "cell_type": "code",
   "execution_count": 212,
   "metadata": {},
   "outputs": [
    {
     "data": {
      "text/plain": [
       "20"
      ]
     },
     "execution_count": 212,
     "metadata": {},
     "output_type": "execute_result"
    }
   ],
   "source": [
    "len(tweets)"
   ]
  },
  {
   "cell_type": "code",
   "execution_count": null,
   "metadata": {},
   "outputs": [],
   "source": []
  },
  {
   "cell_type": "code",
   "execution_count": 238,
   "metadata": {},
   "outputs": [],
   "source": [
    "for i in range(0,len(tweets)):\n",
    "\n",
    "    created_at = str(tweets[i]['timestamp_ms'])\n",
    "    \n",
    "    did_work = 0\n",
    "    \n",
    "    try:\n",
    "        full_text = str(tweets[i]['extended_tweet']['full_text'])\n",
    "        sentiment = str(analyser.polarity_scores(tweets[i]['extended_tweet']['full_text']))\n",
    "        did_work = 1\n",
    "    except: \n",
    "        pass\n",
    "    try:\n",
    "        full_text = str(tweets[i]['quoted_status']['extended_tweet']['full_text'])\n",
    "        sentiment = str(analyser.polarity_scores(tweets[i]['quoted_status']['extended_tweet']['full_text']))\n",
    "        did_work = 1\n",
    "    except:\n",
    "        pass\n",
    "    try:\n",
    "        full_text = str(tweets[i]['retweeted_status']['extended_tweet']['full_text'])\n",
    "        sentiment = str(analyser.polarity_scores(tweets[i]['retweeted_status']['extended_tweet']['full_text']))\n",
    "        did_work = 1\n",
    "    except:\n",
    "        pass\n",
    "    finally:\n",
    "        if did_work == 0:\n",
    "            full_text = str(tweets[i]['text'])\n",
    "            sentiment = str(analyser.polarity_scores(tweets[i]['text']))\n",
    "        \n",
    "   \n",
    "    name = str(tweets[i]['user']['name'])\n",
    "    username = str(tweets[i]['user']['screen_name'])\n",
    "    location = str(tweets[i]['user']['location'])\n",
    "    user_desc = str(tweets[i]['user']['description'])\n",
    "    follower_count = str(tweets[i]['user']['followers_count'])\n",
    "    status_count = str(tweets[i]['user']['statuses_count'])\n",
    "    tweet_source = str(tweets[i]['source'])\n",
    "    \n",
    "    \n",
    "    insert_line = 'INSERT INTO Adventureworks2012.aa_tweets.tweets (created_at,full_text,sentiment,name,username,location,user_desc,follower_count,status_count,tweet_source) VALUES (?,?,?,?,?,?,?,?,?,?)'\n",
    "    cur.execute(insert_line,created_at,full_text,sentiment,name,username,location,user_desc,follower_count,status_count,tweet_source)\n",
    "    cur.commit()\n",
    "    \n",
    "       "
   ]
  },
  {
   "cell_type": "code",
   "execution_count": 228,
   "metadata": {},
   "outputs": [
    {
     "data": {
      "text/plain": [
       "299"
      ]
     },
     "execution_count": 228,
     "metadata": {},
     "output_type": "execute_result"
    }
   ],
   "source": [
    "len('@TelBabe @achievechange Piers Morgan asked a question on behalf of many concerned  British citizens,  Ms Abbott could not respond with any clarity or sense about illegal immigrants being allowed to remain or leave any more then other key politicians representing Labour can or will. I wonder why....')"
   ]
  },
  {
   "cell_type": "code",
   "execution_count": 231,
   "metadata": {},
   "outputs": [
    {
     "data": {
      "text/plain": [
       "{'created_at': 'Mon Apr 30 14:45:14 +0000 2018',\n",
       " 'id': 990965305399758848,\n",
       " 'id_str': '990965305399758848',\n",
       " 'text': \"Michelle Wolf played right into Trump's hands https://t.co/vqxnoa1TbF\",\n",
       " 'source': '<a href=\"http://www.asdf.com\" rel=\"nofollow\">TrumpFirehose</a>',\n",
       " 'truncated': False,\n",
       " 'in_reply_to_status_id': None,\n",
       " 'in_reply_to_status_id_str': None,\n",
       " 'in_reply_to_user_id': None,\n",
       " 'in_reply_to_user_id_str': None,\n",
       " 'in_reply_to_screen_name': None,\n",
       " 'user': {'id': 778711561800065025,\n",
       "  'id_str': '778711561800065025',\n",
       "  'name': 'TrumpFirehose',\n",
       "  'screen_name': 'TrumpFirehose',\n",
       "  'location': None,\n",
       "  'url': None,\n",
       "  'description': 'TWEETING EVERY SINGLE. PIECE. OF. TRUMP. NEWS.',\n",
       "  'translator_type': 'none',\n",
       "  'protected': False,\n",
       "  'verified': False,\n",
       "  'followers_count': 74,\n",
       "  'friends_count': 1,\n",
       "  'listed_count': 36,\n",
       "  'favourites_count': 6,\n",
       "  'statuses_count': 132386,\n",
       "  'created_at': 'Wed Sep 21 21:44:38 +0000 2016',\n",
       "  'utc_offset': None,\n",
       "  'time_zone': None,\n",
       "  'geo_enabled': False,\n",
       "  'lang': 'en',\n",
       "  'contributors_enabled': False,\n",
       "  'is_translator': False,\n",
       "  'profile_background_color': 'F5F8FA',\n",
       "  'profile_background_image_url': '',\n",
       "  'profile_background_image_url_https': '',\n",
       "  'profile_background_tile': False,\n",
       "  'profile_link_color': '1DA1F2',\n",
       "  'profile_sidebar_border_color': 'C0DEED',\n",
       "  'profile_sidebar_fill_color': 'DDEEF6',\n",
       "  'profile_text_color': '333333',\n",
       "  'profile_use_background_image': True,\n",
       "  'profile_image_url': 'http://pbs.twimg.com/profile_images/778799296153919488/f53MO6xf_normal.jpg',\n",
       "  'profile_image_url_https': 'https://pbs.twimg.com/profile_images/778799296153919488/f53MO6xf_normal.jpg',\n",
       "  'default_profile': True,\n",
       "  'default_profile_image': False,\n",
       "  'following': None,\n",
       "  'follow_request_sent': None,\n",
       "  'notifications': None},\n",
       " 'geo': None,\n",
       " 'coordinates': None,\n",
       " 'place': None,\n",
       " 'contributors': None,\n",
       " 'is_quote_status': False,\n",
       " 'quote_count': 0,\n",
       " 'reply_count': 0,\n",
       " 'retweet_count': 0,\n",
       " 'favorite_count': 0,\n",
       " 'entities': {'hashtags': [],\n",
       "  'urls': [{'url': 'https://t.co/vqxnoa1TbF',\n",
       "    'expanded_url': 'http://www.dailymail.co.uk/news/article-5674639/PIERS-MORGAN-Michelle-Wolf-played-right-Trumps-hands.html?ITO=1490&ns_mchannel=rss&ns_campaign=1490',\n",
       "    'display_url': 'dailymail.co.uk/news/article-5…',\n",
       "    'indices': [46, 69]}],\n",
       "  'user_mentions': [],\n",
       "  'symbols': []},\n",
       " 'favorited': False,\n",
       " 'retweeted': False,\n",
       " 'possibly_sensitive': False,\n",
       " 'filter_level': 'low',\n",
       " 'lang': 'en',\n",
       " 'timestamp_ms': '1525099514709'}"
      ]
     },
     "execution_count": 231,
     "metadata": {},
     "output_type": "execute_result"
    }
   ],
   "source": [
    "tweets[10]"
   ]
  },
  {
   "cell_type": "code",
   "execution_count": null,
   "metadata": {},
   "outputs": [],
   "source": []
  },
  {
   "cell_type": "code",
   "execution_count": null,
   "metadata": {},
   "outputs": [],
   "source": []
  },
  {
   "cell_type": "code",
   "execution_count": null,
   "metadata": {},
   "outputs": [],
   "source": []
  }
 ],
 "metadata": {
  "kernelspec": {
   "display_name": "Python 3",
   "language": "python",
   "name": "python3"
  },
  "language_info": {
   "codemirror_mode": {
    "name": "ipython",
    "version": 3
   },
   "file_extension": ".py",
   "mimetype": "text/x-python",
   "name": "python",
   "nbconvert_exporter": "python",
   "pygments_lexer": "ipython3",
   "version": "3.6.4"
  }
 },
 "nbformat": 4,
 "nbformat_minor": 2
}
